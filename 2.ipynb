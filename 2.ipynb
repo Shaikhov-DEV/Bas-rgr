{
  "nbformat": 4,
  "nbformat_minor": 0,
  "metadata": {
    "colab": {
      "name": "2.ipynb",
      "provenance": [],
      "collapsed_sections": []
    },
    "kernelspec": {
      "name": "python3",
      "display_name": "Python 3"
    },
    "language_info": {
      "name": "python"
    }
  },
  "cells": [
    {
      "cell_type": "markdown",
      "source": [
        "# Заголовок первого уровня \n",
        "## Заголовок второго уровня \n",
        "### Заголовок третьего уровня "
      ],
      "metadata": {
        "id": "I7A75WX2KnB8"
      }
    },
    {
      "cell_type": "markdown",
      "source": [
        "# Нормальное распредление\n",
        "\n",
        "Формула в отдельной строке:\n",
        "$${\\displaystyle f(x)={\\frac {1}{\\sigma {\\sqrt {2\\pi }}}}e^{-{\\frac {1}{2}}\n",
        "\\left({\\frac {x-\\mu }{\\sigma }}\\right)*{2}}}$$\n",
        "\n",
        "В тексте:\n",
        "${\\displaystyle f(x)={\\frac {1}{\\sigma {\\sqrt {2\\pi }}}}e^{-{\\frac {1}{2}}\\left({\\frac {x-\\mu }{\\sigma }}\\right)*{2}}}$"
      ],
      "metadata": {
        "id": "jbMlyP0wKvS0"
      }
    },
    {
      "cell_type": "markdown",
      "source": [
        "# Греческий алфавит\n",
        "Заглавная|Строчная|Название\n",
        "--|--|--\n",
        "A|α|альфа\n",
        "B|β|бета\n",
        "Г|γ|гамма \n",
        "Δ|δ|дельта\n",
        "E|ε|эпсилон\n",
        "Z|ζ|дзета\n",
        "H|η|эта\n",
        "Θ|θ|тета\n",
        "I|ί|йота\n",
        "K|κ|каппа\n",
        "Λ|λ|ламбда\n",
        "M|μ|мю\n",
        "N|𝜈|ню\n",
        "Ξ|ξ|кси\n",
        "O|o|омикрон\n",
        "П|π|пи\n",
        "Ρ|ρ|ро\n",
        "Σ|σ|сигма\n",
        "Τ|τ|тау\n",
        "υ|υ|ипсилон\n",
        "Φ|𝝋|фи\n",
        "Х|χ|хи\n",
        "Ψ|ψ|пси\n",
        "Ω|ω|омега"
      ],
      "metadata": {
        "id": "_pGMpfDHocuy"
      }
    }
  ]
}